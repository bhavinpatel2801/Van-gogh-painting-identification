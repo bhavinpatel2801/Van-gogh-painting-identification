{
 "cells": [
  {
   "cell_type": "markdown",
   "metadata": {},
   "source": [
    "# Preprocessing images for model training"
   ]
  },
  {
   "cell_type": "code",
   "execution_count": 5,
   "metadata": {},
   "outputs": [
    {
     "name": "stderr",
     "output_type": "stream",
     "text": [
      "c:\\Users\\Krish\\OneDrive\\Desktop\\ResumeProjects\\Van-gogh-painting-identification\\venv\\Lib\\site-packages\\PIL\\Image.py:3402: DecompressionBombWarning: Image size (178946307 pixels) exceeds limit of 89478485 pixels, could be decompression bomb DOS attack.\n",
      "  warnings.warn(\n"
     ]
    }
   ],
   "source": [
    "from PIL import Image\n",
    "import os\n",
    "\n",
    "def load_images_from_folder(folder):\n",
    "    return [Image.open(os.path.join(folder, fname)) for fname in os.listdir(folder) if fname.endswith('.jpg') or fname.endswith('.png')]\n",
    "\n",
    "train_van_gogh_images = load_images_from_folder(\"../data/raw/vgdb_2016/train/vg\")\n",
    "train_non_van_gogh_images = load_images_from_folder(\"../data/raw/vgdb_2016/train/nvg\")\n",
    "\n",
    "test_van_gogh_images = load_images_from_folder(\"../data/raw/vgdb_2016/test/vg\")\n",
    "test_non_van_gogh_images = load_images_from_folder(\"../data/raw/vgdb_2016/test/nvg\")\n"
   ]
  },
  {
   "cell_type": "code",
   "execution_count": 6,
   "metadata": {},
   "outputs": [],
   "source": [
    "import sys\n",
    "sys.path.append('../src')  # Adjust as needed\n",
    "\n",
    "from data_preprocessing import basic_transform, apply_transform, create_dataset\n",
    "\n",
    "# Step 1: Get the transform function\n",
    "transform = basic_transform()\n",
    "\n",
    "# Step 2: Apply transforms to all image groups\n",
    "train_van_gogh_tensors = apply_transform(train_van_gogh_images, transform)\n",
    "train_non_van_gogh_tensors = apply_transform(train_non_van_gogh_images, transform)\n",
    "\n",
    "test_van_gogh_tensors = apply_transform(test_van_gogh_images, transform)\n",
    "test_non_van_gogh_tensors = apply_transform(test_non_van_gogh_images, transform)\n",
    "\n",
    "# Step 3: Create labels for both sets\n",
    "train_labels = [1] * len(train_van_gogh_tensors) + [0] * len(train_non_van_gogh_tensors)\n",
    "test_labels = [1] * len(test_van_gogh_tensors) + [0] * len(test_non_van_gogh_tensors)\n",
    "\n",
    "# Step 4: Create datasets\n",
    "train_dataset = create_dataset(train_van_gogh_tensors + train_non_van_gogh_tensors, train_labels)\n",
    "test_dataset = create_dataset(test_van_gogh_tensors + test_non_van_gogh_tensors, test_labels)\n"
   ]
  },
  {
   "cell_type": "code",
   "execution_count": 13,
   "metadata": {},
   "outputs": [],
   "source": [
    "import torch\n",
    "# Save datasets (optional)\n",
    "torch.save(train_dataset, '../data/processed/train_dataset.pt')\n",
    "torch.save(test_dataset, '../data/processed/test_dataset.pt')"
   ]
  }
 ],
 "metadata": {
  "kernelspec": {
   "display_name": "venv",
   "language": "python",
   "name": "python3"
  },
  "language_info": {
   "codemirror_mode": {
    "name": "ipython",
    "version": 3
   },
   "file_extension": ".py",
   "mimetype": "text/x-python",
   "name": "python",
   "nbconvert_exporter": "python",
   "pygments_lexer": "ipython3",
   "version": "3.12.7"
  }
 },
 "nbformat": 4,
 "nbformat_minor": 2
}
