{
 "cells": [
  {
   "cell_type": "markdown",
   "metadata": {},
   "source": [
    "# Preprocessing images for model training"
   ]
  },
  {
   "cell_type": "code",
   "execution_count": 1,
   "metadata": {},
   "outputs": [
    {
     "name": "stderr",
     "output_type": "stream",
     "text": [
      "c:\\Users\\Krish\\OneDrive\\Desktop\\ResumeProjects\\Van-gogh-painting-identification\\venv\\Lib\\site-packages\\PIL\\Image.py:3402: DecompressionBombWarning: Image size (178946307 pixels) exceeds limit of 89478485 pixels, could be decompression bomb DOS attack.\n",
      "  warnings.warn(\n"
     ]
    }
   ],
   "source": [
    "from PIL import Image\n",
    "import os\n",
    "\n",
    "def load_images_from_folder(folder):\n",
    "    return [Image.open(os.path.join(folder, fname)) for fname in os.listdir(folder) if fname.endswith('.jpg') or fname.endswith('.png')]\n",
    "\n",
    "train_van_gogh_images = load_images_from_folder(\"../data/raw/vgdb_2016/train/vg\")\n",
    "train_non_van_gogh_images = load_images_from_folder(\"../data/raw/vgdb_2016/train/nvg\")\n",
    "\n",
    "test_van_gogh_images = load_images_from_folder(\"../data/raw/vgdb_2016/test/vg\")\n",
    "test_non_van_gogh_images = load_images_from_folder(\"../data/raw/vgdb_2016/test/nvg\")\n"
   ]
  },
  {
   "cell_type": "code",
   "execution_count": 6,
   "metadata": {},
   "outputs": [],
   "source": [
    "import sys\n",
    "sys.path.append('../src')  # Adjust as needed\n",
    "\n",
    "from data_preprocessing import basic_transform, apply_transform, create_dataset\n",
    "\n",
    "# Step 1: Get the transform function\n",
    "transform = basic_transform()\n",
    "\n",
    "# Step 2: Apply transforms to all image groups\n",
    "train_van_gogh_tensors = apply_transform(train_van_gogh_images, transform)\n",
    "train_non_van_gogh_tensors = apply_transform(train_non_van_gogh_images, transform)\n",
    "\n",
    "test_van_gogh_tensors = apply_transform(test_van_gogh_images, transform)\n",
    "test_non_van_gogh_tensors = apply_transform(test_non_van_gogh_images, transform)\n",
    "\n",
    "# Step 3: Create labels for both sets\n",
    "train_labels = [1] * len(train_van_gogh_tensors) + [0] * len(train_non_van_gogh_tensors)\n",
    "test_labels = [1] * len(test_van_gogh_tensors) + [0] * len(test_non_van_gogh_tensors)\n",
    "\n",
    "# Step 4: Create datasets\n",
    "train_dataset = create_dataset(train_van_gogh_tensors + train_non_van_gogh_tensors, train_labels)\n",
    "test_dataset = create_dataset(test_van_gogh_tensors + test_non_van_gogh_tensors, test_labels)\n"
   ]
  },
  {
   "cell_type": "code",
   "execution_count": 13,
   "metadata": {},
   "outputs": [],
   "source": [
    "import torch\n",
    "# Save datasets (optional)\n",
    "torch.save(train_dataset, '../data/processed/train_dataset.pt')\n",
    "torch.save(test_dataset, '../data/processed/test_dataset.pt')"
   ]
  },
  {
   "cell_type": "markdown",
   "metadata": {},
   "source": [
    "# Patch preprocess"
   ]
  },
  {
   "cell_type": "code",
   "execution_count": 4,
   "metadata": {},
   "outputs": [],
   "source": [
    "import sys\n",
    "sys.path.append('../src')  # Adjust as needed\n",
    "import torch\n",
    "from torchvision import transforms\n",
    "from PIL import Image\n",
    "import random\n",
    "from preprocessing_patches import extract_patches_and_labels, transform\n"
   ]
  },
  {
   "cell_type": "code",
   "execution_count": 5,
   "metadata": {},
   "outputs": [],
   "source": [
    "# ✅ Train Set\n",
    "train_patches_vg, train_labels_vg = extract_patches_and_labels(train_van_gogh_images, 1, transform)\n",
    "train_patches_non, train_labels_non = extract_patches_and_labels(train_non_van_gogh_images, 0, transform)\n",
    "\n",
    "train_patch_tensors = train_patches_vg + train_patches_non\n",
    "train_patch_labels = train_labels_vg + train_labels_non\n",
    "\n",
    "train_patch_dataset = torch.utils.data.TensorDataset(\n",
    "    torch.stack(train_patch_tensors),\n",
    "    torch.tensor(train_patch_labels)\n",
    ")\n",
    "torch.save(train_patch_dataset, '../data/processed/train_patch_dataset.pt')\n"
   ]
  },
  {
   "cell_type": "code",
   "execution_count": 6,
   "metadata": {},
   "outputs": [],
   "source": [
    "# ✅ Test Set\n",
    "test_patches_vg, test_labels_vg = extract_patches_and_labels(test_van_gogh_images, 1, transform)\n",
    "test_patches_non, test_labels_non = extract_patches_and_labels(test_non_van_gogh_images, 0, transform)\n",
    "\n",
    "test_patch_tensors = test_patches_vg + test_patches_non\n",
    "test_patch_labels = test_labels_vg + test_labels_non\n",
    "\n",
    "test_patch_dataset = torch.utils.data.TensorDataset(\n",
    "    torch.stack(test_patch_tensors),\n",
    "    torch.tensor(test_patch_labels)\n",
    ")\n",
    "torch.save(test_patch_dataset, '../data/processed/test_patch_dataset.pt')\n"
   ]
  }
 ],
 "metadata": {
  "kernelspec": {
   "display_name": "venv",
   "language": "python",
   "name": "python3"
  },
  "language_info": {
   "codemirror_mode": {
    "name": "ipython",
    "version": 3
   },
   "file_extension": ".py",
   "mimetype": "text/x-python",
   "name": "python",
   "nbconvert_exporter": "python",
   "pygments_lexer": "ipython3",
   "version": "3.12.7"
  }
 },
 "nbformat": 4,
 "nbformat_minor": 2
}
