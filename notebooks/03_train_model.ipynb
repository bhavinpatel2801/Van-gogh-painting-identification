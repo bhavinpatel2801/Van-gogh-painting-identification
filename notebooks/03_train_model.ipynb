{
 "cells": [
  {
   "cell_type": "markdown",
   "metadata": {},
   "source": [
    "# Image training"
   ]
  },
  {
   "cell_type": "code",
   "execution_count": 1,
   "metadata": {},
   "outputs": [],
   "source": [
    "import torch"
   ]
  },
  {
   "cell_type": "code",
   "execution_count": 2,
   "metadata": {},
   "outputs": [],
   "source": [
    "from torch.serialization import add_safe_globals\n",
    "from torch.utils.data import TensorDataset\n",
    "\n",
    "add_safe_globals([TensorDataset])\n",
    "\n",
    "train_dataset = torch.load('../data/processed/train_dataset.pt', weights_only=False)\n",
    "test_dataset = torch.load('../data/processed/test_dataset.pt', weights_only=False)\n"
   ]
  },
  {
   "cell_type": "code",
   "execution_count": 3,
   "metadata": {},
   "outputs": [],
   "source": [
    "from torch.utils.data import DataLoader\n",
    "\n",
    "train_loader = DataLoader(train_dataset, batch_size=32, shuffle=True)\n",
    "test_loader = DataLoader(test_dataset, batch_size=32, shuffle=False)\n"
   ]
  },
  {
   "cell_type": "code",
   "execution_count": 4,
   "metadata": {},
   "outputs": [],
   "source": [
    "import sys\n",
    "sys.path.append('../src')\n",
    "\n",
    "from trainer  import BasicCNN, get_resnet18_transfer_model\n",
    "\n",
    "device = 'cuda' if torch.cuda.is_available() else 'cpu'\n",
    "\n",
    "# Instantiate both models\n",
    "model_basic = BasicCNN().to(device)\n",
    "model_resnet18 = get_resnet18_transfer_model().to(device)\n"
   ]
  },
  {
   "cell_type": "code",
   "execution_count": 11,
   "metadata": {},
   "outputs": [
    {
     "name": "stdout",
     "output_type": "stream",
     "text": [
      "Epoch 1/15, Training Loss: 0.8817\n",
      "Epoch 2/15, Training Loss: 0.6763\n",
      "Epoch 3/15, Training Loss: 0.6560\n",
      "Epoch 4/15, Training Loss: 0.6426\n",
      "Epoch 5/15, Training Loss: 0.6399\n",
      "Epoch 6/15, Training Loss: 0.6365\n",
      "Epoch 7/15, Training Loss: 0.6339\n",
      "Epoch 8/15, Training Loss: 0.6335\n",
      "Epoch 9/15, Training Loss: 0.6332\n",
      "Epoch 10/15, Training Loss: 0.6330\n",
      "Epoch 11/15, Training Loss: 0.6330\n",
      "Epoch 12/15, Training Loss: 0.6329\n",
      "Epoch 13/15, Training Loss: 0.6329\n",
      "Epoch 14/15, Training Loss: 0.6329\n",
      "Epoch 15/15, Training Loss: 0.6329\n",
      "Final Test Accuracy: 0.6269\n",
      "Epoch 1/15, Training Loss: 0.6894\n",
      "Epoch 2/15, Training Loss: 0.3660\n",
      "Epoch 3/15, Training Loss: 0.1312\n",
      "Epoch 4/15, Training Loss: 0.0500\n",
      "Epoch 5/15, Training Loss: 0.0591\n",
      "Epoch 6/15, Training Loss: 0.0208\n",
      "Epoch 7/15, Training Loss: 0.0139\n",
      "Epoch 8/15, Training Loss: 0.0103\n",
      "Epoch 9/15, Training Loss: 0.0158\n",
      "Epoch 10/15, Training Loss: 0.0075\n",
      "Epoch 11/15, Training Loss: 0.0104\n",
      "Epoch 12/15, Training Loss: 0.0081\n",
      "Epoch 13/15, Training Loss: 0.0081\n",
      "Epoch 14/15, Training Loss: 0.0088\n",
      "Epoch 15/15, Training Loss: 0.0119\n",
      "Final Test Accuracy: 0.8657\n",
      "✅ BasicCNN Accuracy: 0.6269\n",
      "✅ ResNet18 Accuracy: 0.8657\n"
     ]
    }
   ],
   "source": [
    "from trainer import train_and_evaluate\n",
    "# Train BasicCNN\n",
    "model_basic, acc_basic = train_and_evaluate(model_basic, train_loader, test_loader, num_epochs=15, device=device)\n",
    "\n",
    "# Train ResNet18\n",
    "model_resnet18, acc_resnet = train_and_evaluate(model_resnet18, train_loader, test_loader, num_epochs=15, device=device)\n",
    "\n",
    "# Compare results\n",
    "print(f\"✅ BasicCNN Accuracy: {acc_basic:.4f}\")\n",
    "print(f\"✅ ResNet18 Accuracy: {acc_resnet:.4f}\")\n"
   ]
  },
  {
   "cell_type": "code",
   "execution_count": 5,
   "metadata": {},
   "outputs": [],
   "source": [
    "import sys\n",
    "sys.path.append('../src')\n",
    "from trainer import get_vit_model\n",
    "model_vit = get_vit_model(num_classes=2)"
   ]
  },
  {
   "cell_type": "code",
   "execution_count": 7,
   "metadata": {},
   "outputs": [
    {
     "name": "stdout",
     "output_type": "stream",
     "text": [
      "Epoch 1/20, Training Loss: 0.3970\n",
      "Epoch 2/20, Training Loss: 0.3904\n",
      "Epoch 3/20, Training Loss: 0.3852\n",
      "Epoch 4/20, Training Loss: 0.3817\n",
      "Epoch 5/20, Training Loss: 0.3812\n",
      "Epoch 6/20, Training Loss: 0.3807\n",
      "Epoch 7/20, Training Loss: 0.3804\n",
      "Epoch 8/20, Training Loss: 0.3804\n",
      "Epoch 9/20, Training Loss: 0.3803\n",
      "Epoch 10/20, Training Loss: 0.3803\n",
      "Epoch 11/20, Training Loss: 0.3803\n",
      "Epoch 12/20, Training Loss: 0.3803\n",
      "Epoch 13/20, Training Loss: 0.3803\n",
      "Epoch 14/20, Training Loss: 0.3803\n",
      "Epoch 15/20, Training Loss: 0.3803\n",
      "Epoch 16/20, Training Loss: 0.3803\n",
      "Epoch 17/20, Training Loss: 0.3803\n",
      "Epoch 18/20, Training Loss: 0.3803\n",
      "Epoch 19/20, Training Loss: 0.3803\n",
      "Epoch 20/20, Training Loss: 0.3803\n",
      "Final Test Accuracy: 0.7612\n",
      "✅ Vision Transformer Accuracy: 0.7612\n"
     ]
    }
   ],
   "source": [
    "\n",
    "from trainer import train_and_evaluate\n",
    "model_vit, acc_vit = train_and_evaluate(\n",
    "    model_vit,\n",
    "    train_loader,\n",
    "    test_loader,\n",
    "    num_epochs=20,\n",
    "    lr=1e-4,\n",
    "    device=device\n",
    ")\n",
    "\n",
    "print(f\"✅ Vision Transformer Accuracy: {acc_vit:.4f}\")"
   ]
  },
  {
   "cell_type": "code",
   "execution_count": 8,
   "metadata": {},
   "outputs": [],
   "source": [
    "# Save best model\n",
    "torch.save(model_resnet18.state_dict(), \"../models/resnet18_best.pth\")\n"
   ]
  },
  {
   "cell_type": "markdown",
   "metadata": {},
   "source": [
    "# Patch training"
   ]
  },
  {
   "cell_type": "code",
   "execution_count": 1,
   "metadata": {},
   "outputs": [],
   "source": [
    "import torch\n",
    "from torch.serialization import add_safe_globals\n",
    "from torch.utils.data import TensorDataset\n",
    "\n",
    "add_safe_globals([TensorDataset])\n",
    "\n",
    "train_dataset = torch.load('../data/processed/train_patch_dataset.pt', weights_only=False)\n",
    "test_dataset = torch.load('../data/processed/test_patch_dataset.pt', weights_only=False)\n",
    "\n",
    "from torch.utils.data import DataLoader\n",
    "train_loader = DataLoader(train_dataset, batch_size=64, shuffle=True)\n",
    "test_loader = DataLoader(test_dataset, batch_size=64)\n"
   ]
  },
  {
   "cell_type": "code",
   "execution_count": 2,
   "metadata": {},
   "outputs": [],
   "source": [
    "import sys\n",
    "sys.path.append('../src')\n",
    "from trainer import patch_train_and_evaluate, get_model\n"
   ]
  },
  {
   "cell_type": "code",
   "execution_count": null,
   "metadata": {},
   "outputs": [
    {
     "name": "stdout",
     "output_type": "stream",
     "text": [
      "\n",
      "📌 Training RESNET...\n",
      "Epoch 1/10, Training Loss: 0.3801\n",
      "Epoch 2/10, Training Loss: 0.2734\n",
      "Epoch 3/10, Training Loss: 0.2450\n",
      "Epoch 4/10, Training Loss: 0.2652\n",
      "⚠️  Minor improvment improvement for 1 epoch(s).\n",
      "Epoch 5/10, Training Loss: 0.2240\n",
      "Epoch 6/10, Training Loss: 0.2225\n",
      "⚠️  Minor improvment improvement for 1 epoch(s).\n",
      "Epoch 7/10, Training Loss: 0.1832\n",
      "Epoch 8/10, Training Loss: 0.1708\n",
      "⚠️  Minor improvment improvement for 1 epoch(s).\n",
      "Epoch 9/10, Training Loss: 0.1555\n",
      "Epoch 10/10, Training Loss: 0.1485\n",
      "⚠️  Minor improvment improvement for 1 epoch(s).\n",
      "✅ Final F1 Score: 0.8969\n",
      "🎯 RESNET F1 Score: 0.8969\n",
      "\n",
      "📌 Training VGG...\n"
     ]
    },
    {
     "name": "stderr",
     "output_type": "stream",
     "text": [
      "Downloading: \"https://download.pytorch.org/models/vgg16-397923af.pth\" to C:\\Users\\Krish/.cache\\torch\\hub\\checkpoints\\vgg16-397923af.pth\n",
      "100%|██████████| 528M/528M [00:43<00:00, 12.7MB/s] \n"
     ]
    },
    {
     "name": "stdout",
     "output_type": "stream",
     "text": [
      "Epoch 1/10, Training Loss: 1.0415\n",
      "Epoch 2/10, Training Loss: 0.5122\n",
      "Epoch 3/10, Training Loss: 0.3918\n",
      "Epoch 4/10, Training Loss: 0.3162\n",
      "Epoch 5/10, Training Loss: 0.2979\n",
      "⚠️  Minor improvment improvement for 1 epoch(s).\n",
      "Epoch 6/10, Training Loss: 0.4732\n",
      "⚠️  Minor improvment improvement for 2 epoch(s).\n",
      "Epoch 7/10, Training Loss: 0.6593\n",
      "⚠️  Minor improvment improvement for 3 epoch(s).\n",
      "⏹️  Early stopping triggered.\n",
      "✅ Final F1 Score: 0.4831\n",
      "🎯 VGG F1 Score: 0.4831\n",
      "\n",
      "📌 Training EFFICIENTNET...\n"
     ]
    },
    {
     "name": "stderr",
     "output_type": "stream",
     "text": [
      "Downloading: \"https://download.pytorch.org/models/efficientnet_b0_rwightman-7f5810bc.pth\" to C:\\Users\\Krish/.cache\\torch\\hub\\checkpoints\\efficientnet_b0_rwightman-7f5810bc.pth\n",
      "100%|██████████| 20.5M/20.5M [00:03<00:00, 5.38MB/s]\n"
     ]
    },
    {
     "name": "stdout",
     "output_type": "stream",
     "text": [
      "Epoch 1/10, Training Loss: 0.2215\n",
      "Epoch 2/10, Training Loss: 0.1194\n",
      "Epoch 3/10, Training Loss: 0.0845\n",
      "Epoch 4/10, Training Loss: 0.0645\n",
      "⚠️  Minor improvment improvement for 1 epoch(s).\n",
      "Epoch 5/10, Training Loss: 0.0629\n",
      "Epoch 6/10, Training Loss: 0.0439\n",
      "⚠️  Minor improvment improvement for 1 epoch(s).\n",
      "Epoch 7/10, Training Loss: 0.0415\n",
      "Epoch 8/10, Training Loss: 0.0222\n",
      "⚠️  Minor improvment improvement for 1 epoch(s).\n",
      "Epoch 9/10, Training Loss: 0.0186\n",
      "Epoch 10/10, Training Loss: 0.0348\n",
      "⚠️  Minor improvment improvement for 1 epoch(s).\n",
      "✅ Final F1 Score: 0.9062\n",
      "🎯 EFFICIENTNET F1 Score: 0.9062\n"
     ]
    }
   ],
   "source": [
    "trained_models = {}\n",
    "f1_scores = {}\n",
    "\n",
    "for model_name in ['resnet', 'vgg', 'efficientnet']:\n",
    "    print(f\"\\n📌 Training {model_name.upper()}...\")\n",
    "    model = get_model(model_name)\n",
    "    trained_model, f1 = patch_train_and_evaluate(model, train_loader, test_loader)\n",
    "    trained_models[model_name] = trained_model\n",
    "    f1_scores[model_name] = f1\n",
    "    print(f\"🎯 {model_name.upper()} F1 Score: {f1:.4f}\")\n",
    "\n",
    "# Identify best model\n",
    "best_model_name = max(f1_scores, key=f1_scores.get)\n",
    "print(f\"\\n🏆 Best model: {best_model_name.upper()} with F1 Score {f1_scores[best_model_name]:.4f}\")\n",
    "\n",
    "# Save it\n",
    "torch.save(trained_models[best_model_name].state_dict(), f'../models/{best_model_name}_best_patch.pth')\n"
   ]
  },
  {
   "cell_type": "code",
   "execution_count": 5,
   "metadata": {},
   "outputs": [],
   "source": [
    "torch.save(model.state_dict(), '../models/efficientnet_best_patch.pth')\n"
   ]
  },
  {
   "cell_type": "code",
   "execution_count": null,
   "metadata": {},
   "outputs": [],
   "source": []
  }
 ],
 "metadata": {
  "kernelspec": {
   "display_name": "venv",
   "language": "python",
   "name": "python3"
  },
  "language_info": {
   "codemirror_mode": {
    "name": "ipython",
    "version": 3
   },
   "file_extension": ".py",
   "mimetype": "text/x-python",
   "name": "python",
   "nbconvert_exporter": "python",
   "pygments_lexer": "ipython3",
   "version": "3.12.7"
  }
 },
 "nbformat": 4,
 "nbformat_minor": 2
}
